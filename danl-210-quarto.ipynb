{
  "cells": [
    {
      "cell_type": "raw",
      "metadata": {},
      "source": [
        "---\n",
        "title: \"DANL 210: Data Preparation and Management\"\n",
        "subtitle: Quarto Template<br><br> \n",
        "author: \n",
        "\n",
        "  - name: YOUR NAME\n",
        "    affiliations: \n",
        "      - name: SUNY Geneseo\n",
        "\n",
        "  - name: YOUR COWORKER 1\n",
        "    affiliations: \n",
        "      - name: SUNY Brockport\n",
        "    \n",
        "date: last-modified\n",
        "\n",
        "format: \n",
        "  html:\n",
        "    toc: true\n",
        "    number-sections: true\n",
        "    code-fold: false       # https://quarto.org/docs/output-formats/html-code.html\n",
        "    code-tools: true\n",
        "    code-link: true\n",
        "    highlight-style: atom-one # atom-one tango espresso\n",
        "\n",
        "execute: \n",
        "  warning: false\n",
        "  message: false\n",
        "  echo: true\n",
        "  eval: true\n",
        "  fig-width: 9\n",
        "---"
      ],
      "id": "0167c49a"
    },
    {
      "cell_type": "markdown",
      "metadata": {},
      "source": [
        "# Python Basics\n",
        "\n",
        "## What is Python?\n",
        "\n",
        "Python is a high-level, interpreted programming language. This is a simple Python code:\n"
      ],
      "id": "db87af77"
    },
    {
      "cell_type": "code",
      "metadata": {},
      "source": [
        "print('Hello, World!')"
      ],
      "id": "8e182266",
      "execution_count": null,
      "outputs": []
    },
    {
      "cell_type": "markdown",
      "metadata": {},
      "source": [
        "## Variables and Data Types\n",
        "\n",
        "In Python, variables can store data of different types without explicitly declaring the type.\n",
        "\n",
        "For example:\n"
      ],
      "id": "ea94efaf"
    },
    {
      "cell_type": "code",
      "metadata": {},
      "source": [
        "integer_variable = 10\n",
        "string_variable = 'Hello'\n",
        "float_variable = 10.5\n",
        "\n",
        "float_variable"
      ],
      "id": "5ad918c6",
      "execution_count": null,
      "outputs": []
    },
    {
      "cell_type": "markdown",
      "metadata": {},
      "source": [
        "## Control Structures\n",
        "\n",
        "Python supports the usual logical conditions from mathematics:\n"
      ],
      "id": "ee36f6ab"
    },
    {
      "cell_type": "code",
      "metadata": {},
      "source": [
        "# Equals: a == b\n",
        "# Not Equals: a != b\n",
        "# Less than: a < b\n",
        "# Less than or equal to: a <= b\n",
        "# Greater than: a > b\n",
        "# Greater than or equal to: a >= b"
      ],
      "id": "7cb1051e",
      "execution_count": null,
      "outputs": []
    },
    {
      "cell_type": "markdown",
      "metadata": {},
      "source": [
        "These conditions can be used in several ways, most commonly in 'if statements' and loops.\n"
      ],
      "id": "7e31aa24"
    },
    {
      "cell_type": "code",
      "metadata": {},
      "source": [
        "# if statement:\n",
        "if 5 > 2:\n",
        "    print('Five is greater than two!')"
      ],
      "id": "5fa476a5",
      "execution_count": null,
      "outputs": []
    },
    {
      "cell_type": "markdown",
      "metadata": {},
      "source": [
        "## Functions\n",
        "\n",
        "A function is a block of code which only runs when it is called.\n",
        "\n",
        "You can pass data, known as parameters, into a function.\n",
        "\n",
        "A function can return data as a result.\n"
      ],
      "id": "40630808"
    },
    {
      "cell_type": "code",
      "metadata": {},
      "source": [
        "# Defining a function:\n",
        "def my_function():\n",
        "    print('Hello from a function')\n",
        "\n",
        "# Calling a function:\n",
        "my_function()"
      ],
      "id": "0ef764b4",
      "execution_count": null,
      "outputs": []
    },
    {
      "cell_type": "markdown",
      "metadata": {},
      "source": [
        "## Lists and Dictionaries\n",
        "\n",
        "A list is a collection which is ordered and changeable.\n",
        "\n",
        "A dictionary is a collection which is unordered, changeable and indexed.\n"
      ],
      "id": "0912c3d4"
    },
    {
      "cell_type": "code",
      "metadata": {},
      "source": [
        "# List example:\n",
        "my_list = ['apple', 'banana', 'cherry']\n",
        "\n",
        "# Dictionary example:\n",
        "my_dict = {'name': 'John', 'age': 36}"
      ],
      "id": "24b11dd1",
      "execution_count": null,
      "outputs": []
    },
    {
      "cell_type": "markdown",
      "metadata": {},
      "source": [
        "# Pandas Basics - Orange Juice Sales\n",
        "\n",
        "## Import Python libraries\n",
        "\n",
        "`!pip install dtale` to install `dtale` library"
      ],
      "id": "e09cc2f3"
    },
    {
      "cell_type": "code",
      "metadata": {},
      "source": [
        "# !pip install dtale\n",
        "import pandas as pd\n",
        "import dtale"
      ],
      "id": "73ab44e9",
      "execution_count": null,
      "outputs": []
    },
    {
      "cell_type": "code",
      "metadata": {},
      "source": [
        "oj = pd.read_csv('https://bcdanl.github.io/data/dominick_oj.csv')"
      ],
      "id": "c49fc6b5",
      "execution_count": null,
      "outputs": []
    },
    {
      "cell_type": "code",
      "metadata": {},
      "source": [
        "#| code-fold: true\n",
        "#| code-summary: \"Code!\"\n",
        "oj"
      ],
      "id": "612050b2",
      "execution_count": null,
      "outputs": []
    },
    {
      "cell_type": "code",
      "metadata": {},
      "source": [
        "dtale.show(oj) "
      ],
      "id": "ff071dd5",
      "execution_count": null,
      "outputs": []
    }
  ],
  "metadata": {
    "kernelspec": {
      "name": "python3",
      "language": "python",
      "display_name": "Python 3 (ipykernel)"
    }
  },
  "nbformat": 4,
  "nbformat_minor": 5
}